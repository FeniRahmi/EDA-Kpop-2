{
 "cells": [
  {
   "cell_type": "markdown",
   "metadata": {},
   "source": [
    "# Exploratory Data (2) : K-Pop Groups"
   ]
  },
  {
   "cell_type": "markdown",
   "metadata": {},
   "source": [
    "![kpop](wp8071925-nct-resonance-wallpapers.jpg)\n",
    "![](https://wallpapercave.com/nct-resonance-wallpapers)\n",
    "\n",
    "If you have read my previous article [here](https://wallpapercave.com/nct-resonance-wallpapers), you will not be surprised about this article. I will continue exploring K-pop data. \n",
    "\n",
    "As I say before K-pop idols have data! And it will be interesting if we explore this. I will analyze each feature to make the data exploration easier. I will use two datasets : K-pop boy group and K-pop girl group profiles from 1992 to 2020. I will use pie charts to visualize data because I want to see the percentage of the totals data.\n",
    "\n",
    "Data source : [K-Pop Database](https://dbkpop.com/)"
   ]
  },
  {
   "cell_type": "markdown",
   "metadata": {},
   "source": [
    "#### Content\n",
    "* Data preparation\n",
    "* Data features\n",
    "- 1) Name\n",
    "- 2) Company\n",
    "- 3) Member and Original Member\n",
    "- 4) Active\n",
    "- 5) Debut"
   ]
  },
  {
   "cell_type": "code",
   "execution_count": 1,
   "metadata": {},
   "outputs": [],
   "source": [
    "# Importing needed packages\n",
    "import pandas as pd\n",
    "import matplotlib.pyplot as plt"
   ]
  },
  {
   "cell_type": "code",
   "execution_count": 2,
   "metadata": {},
   "outputs": [
    {
     "data": {
      "text/html": [
       "<div>\n",
       "<style scoped>\n",
       "    .dataframe tbody tr th:only-of-type {\n",
       "        vertical-align: middle;\n",
       "    }\n",
       "\n",
       "    .dataframe tbody tr th {\n",
       "        vertical-align: top;\n",
       "    }\n",
       "\n",
       "    .dataframe thead th {\n",
       "        text-align: right;\n",
       "    }\n",
       "</style>\n",
       "<table border=\"1\" class=\"dataframe\">\n",
       "  <thead>\n",
       "    <tr style=\"text-align: right;\">\n",
       "      <th></th>\n",
       "      <th>Name</th>\n",
       "      <th>Short</th>\n",
       "      <th>Korean Name</th>\n",
       "      <th>Debut</th>\n",
       "      <th>Company</th>\n",
       "      <th>Members</th>\n",
       "      <th>Orig. Memb.</th>\n",
       "      <th>Fanclub Name</th>\n",
       "      <th>Active</th>\n",
       "    </tr>\n",
       "  </thead>\n",
       "  <tbody>\n",
       "    <tr>\n",
       "      <th>0</th>\n",
       "      <td>100%</td>\n",
       "      <td>NaN</td>\n",
       "      <td>백퍼센트</td>\n",
       "      <td>2012-09-18</td>\n",
       "      <td>TOP Media</td>\n",
       "      <td>4</td>\n",
       "      <td>7</td>\n",
       "      <td>Perfection</td>\n",
       "      <td>Yes</td>\n",
       "    </tr>\n",
       "    <tr>\n",
       "      <th>1</th>\n",
       "      <td>14U</td>\n",
       "      <td>NaN</td>\n",
       "      <td>원포유</td>\n",
       "      <td>2017-04-17</td>\n",
       "      <td>BG</td>\n",
       "      <td>14</td>\n",
       "      <td>14</td>\n",
       "      <td>NaN</td>\n",
       "      <td>Yes</td>\n",
       "    </tr>\n",
       "    <tr>\n",
       "      <th>2</th>\n",
       "      <td>1the9</td>\n",
       "      <td>NaN</td>\n",
       "      <td>원더나인</td>\n",
       "      <td>2019-02-09</td>\n",
       "      <td>MBK</td>\n",
       "      <td>9</td>\n",
       "      <td>9</td>\n",
       "      <td>NaN</td>\n",
       "      <td>Yes</td>\n",
       "    </tr>\n",
       "    <tr>\n",
       "      <th>3</th>\n",
       "      <td>24K</td>\n",
       "      <td>NaN</td>\n",
       "      <td>투포케이</td>\n",
       "      <td>2012-09-06</td>\n",
       "      <td>Choeun</td>\n",
       "      <td>8</td>\n",
       "      <td>6</td>\n",
       "      <td>24U</td>\n",
       "      <td>Yes</td>\n",
       "    </tr>\n",
       "    <tr>\n",
       "      <th>4</th>\n",
       "      <td>2AM</td>\n",
       "      <td>NaN</td>\n",
       "      <td>투에이엠</td>\n",
       "      <td>2008-06-21</td>\n",
       "      <td>JYP, Big Hit</td>\n",
       "      <td>4</td>\n",
       "      <td>4</td>\n",
       "      <td>I Am</td>\n",
       "      <td>No</td>\n",
       "    </tr>\n",
       "  </tbody>\n",
       "</table>\n",
       "</div>"
      ],
      "text/plain": [
       "    Name Short Korean Name       Debut       Company  Members  Orig. Memb.  \\\n",
       "0   100%   NaN        백퍼센트  2012-09-18     TOP Media        4            7   \n",
       "1    14U   NaN         원포유  2017-04-17            BG       14           14   \n",
       "2  1the9   NaN        원더나인  2019-02-09           MBK        9            9   \n",
       "3    24K   NaN        투포케이  2012-09-06        Choeun        8            6   \n",
       "4    2AM   NaN        투에이엠  2008-06-21  JYP, Big Hit        4            4   \n",
       "\n",
       "  Fanclub Name Active  \n",
       "0   Perfection    Yes  \n",
       "1          NaN    Yes  \n",
       "2          NaN    Yes  \n",
       "3          24U    Yes  \n",
       "4         I Am     No  "
      ]
     },
     "metadata": {},
     "output_type": "display_data"
    },
    {
     "data": {
      "text/html": [
       "<div>\n",
       "<style scoped>\n",
       "    .dataframe tbody tr th:only-of-type {\n",
       "        vertical-align: middle;\n",
       "    }\n",
       "\n",
       "    .dataframe tbody tr th {\n",
       "        vertical-align: top;\n",
       "    }\n",
       "\n",
       "    .dataframe thead th {\n",
       "        text-align: right;\n",
       "    }\n",
       "</style>\n",
       "<table border=\"1\" class=\"dataframe\">\n",
       "  <thead>\n",
       "    <tr style=\"text-align: right;\">\n",
       "      <th></th>\n",
       "      <th>Name</th>\n",
       "      <th>Short</th>\n",
       "      <th>Korean Name</th>\n",
       "      <th>Debut</th>\n",
       "      <th>Company</th>\n",
       "      <th>Members</th>\n",
       "      <th>Orig. Memb.</th>\n",
       "      <th>Fanclub Name</th>\n",
       "      <th>Active</th>\n",
       "    </tr>\n",
       "  </thead>\n",
       "  <tbody>\n",
       "    <tr>\n",
       "      <th>0</th>\n",
       "      <td>(G)I-DLE</td>\n",
       "      <td>NaN</td>\n",
       "      <td>(여자)아이들</td>\n",
       "      <td>2018-05-02</td>\n",
       "      <td>Cube</td>\n",
       "      <td>6</td>\n",
       "      <td>6</td>\n",
       "      <td>NaN</td>\n",
       "      <td>Yes</td>\n",
       "    </tr>\n",
       "    <tr>\n",
       "      <th>1</th>\n",
       "      <td>15&amp;</td>\n",
       "      <td>NaN</td>\n",
       "      <td>피프틴앤드</td>\n",
       "      <td>2012-10-05</td>\n",
       "      <td>JYP</td>\n",
       "      <td>2</td>\n",
       "      <td>2</td>\n",
       "      <td>NaN</td>\n",
       "      <td>No</td>\n",
       "    </tr>\n",
       "    <tr>\n",
       "      <th>2</th>\n",
       "      <td>2EYES</td>\n",
       "      <td>NaN</td>\n",
       "      <td>투아이즈</td>\n",
       "      <td>2013-07-20</td>\n",
       "      <td>SidusHQ</td>\n",
       "      <td>4</td>\n",
       "      <td>5</td>\n",
       "      <td>NaN</td>\n",
       "      <td>No</td>\n",
       "    </tr>\n",
       "    <tr>\n",
       "      <th>3</th>\n",
       "      <td>2NE1</td>\n",
       "      <td>NaN</td>\n",
       "      <td>투애니원</td>\n",
       "      <td>2009-05-06</td>\n",
       "      <td>YG</td>\n",
       "      <td>4</td>\n",
       "      <td>4</td>\n",
       "      <td>Blackjack</td>\n",
       "      <td>No</td>\n",
       "    </tr>\n",
       "    <tr>\n",
       "      <th>4</th>\n",
       "      <td>3YE</td>\n",
       "      <td>NaN</td>\n",
       "      <td>써드아이</td>\n",
       "      <td>2019-05-21</td>\n",
       "      <td>GH</td>\n",
       "      <td>3</td>\n",
       "      <td>3</td>\n",
       "      <td>NaN</td>\n",
       "      <td>Yes</td>\n",
       "    </tr>\n",
       "  </tbody>\n",
       "</table>\n",
       "</div>"
      ],
      "text/plain": [
       "       Name Short Korean Name       Debut  Company  Members  Orig. Memb.  \\\n",
       "0  (G)I-DLE   NaN     (여자)아이들  2018-05-02     Cube        6            6   \n",
       "1       15&   NaN       피프틴앤드  2012-10-05      JYP        2            2   \n",
       "2     2EYES   NaN        투아이즈  2013-07-20  SidusHQ        4            5   \n",
       "3      2NE1   NaN        투애니원  2009-05-06       YG        4            4   \n",
       "4       3YE   NaN        써드아이  2019-05-21       GH        3            3   \n",
       "\n",
       "  Fanclub Name Active  \n",
       "0          NaN    Yes  \n",
       "1          NaN     No  \n",
       "2          NaN     No  \n",
       "3    Blackjack     No  \n",
       "4          NaN    Yes  "
      ]
     },
     "metadata": {},
     "output_type": "display_data"
    }
   ],
   "source": [
    "# Improting datasets\n",
    "## Boy group dataset\n",
    "boys = pd.read_csv('kpop_idols_boy_groups.csv')\n",
    "display(boys.head())\n",
    "## Girl group dataset\n",
    "girls = pd.read_csv('kpop_idols_girl_groups.csv')\n",
    "display(girls.head())"
   ]
  },
  {
   "cell_type": "code",
   "execution_count": 3,
   "metadata": {},
   "outputs": [
    {
     "name": "stdout",
     "output_type": "stream",
     "text": [
      "Short           129\n",
      "Fanclub Name     86\n",
      "Company           1\n",
      "Active            0\n",
      "Orig. Memb.       0\n",
      "Members           0\n",
      "Debut             0\n",
      "Korean Name       0\n",
      "Name              0\n",
      "dtype: int64\n"
     ]
    }
   ],
   "source": [
    "# Checking missing values\n",
    "## Boy group\n",
    "count_missing_b = boys.isnull().sum().sort_values(ascending = False)\n",
    "print(count_missing_b)"
   ]
  },
  {
   "cell_type": "code",
   "execution_count": 4,
   "metadata": {},
   "outputs": [
    {
     "name": "stdout",
     "output_type": "stream",
     "text": [
      "Short           131\n",
      "Fanclub Name    106\n",
      "Active            0\n",
      "Orig. Memb.       0\n",
      "Members           0\n",
      "Company           0\n",
      "Debut             0\n",
      "Korean Name       0\n",
      "Name              0\n",
      "dtype: int64\n"
     ]
    }
   ],
   "source": [
    "## Girl group\n",
    "count_missing_g = girls.isnull().sum().sort_values(ascending = False)\n",
    "print(count_missing_g)"
   ]
  },
  {
   "cell_type": "markdown",
   "metadata": {},
   "source": [
    "Most boy and girl groups here didn't have short names, then I will drop <code>Short</code> column, and also <code>Korean Name</code> because I assumed the readers here already know the groups without their Korean name."
   ]
  },
  {
   "cell_type": "code",
   "execution_count": 5,
   "metadata": {},
   "outputs": [
    {
     "data": {
      "text/html": [
       "<div>\n",
       "<style scoped>\n",
       "    .dataframe tbody tr th:only-of-type {\n",
       "        vertical-align: middle;\n",
       "    }\n",
       "\n",
       "    .dataframe tbody tr th {\n",
       "        vertical-align: top;\n",
       "    }\n",
       "\n",
       "    .dataframe thead th {\n",
       "        text-align: right;\n",
       "    }\n",
       "</style>\n",
       "<table border=\"1\" class=\"dataframe\">\n",
       "  <thead>\n",
       "    <tr style=\"text-align: right;\">\n",
       "      <th></th>\n",
       "      <th>Name</th>\n",
       "      <th>Debut</th>\n",
       "      <th>Company</th>\n",
       "      <th>Members</th>\n",
       "      <th>Orig. Memb.</th>\n",
       "      <th>Fanclub Name</th>\n",
       "      <th>Active</th>\n",
       "    </tr>\n",
       "  </thead>\n",
       "  <tbody>\n",
       "    <tr>\n",
       "      <th>0</th>\n",
       "      <td>100%</td>\n",
       "      <td>2012-09-18</td>\n",
       "      <td>TOP Media</td>\n",
       "      <td>4</td>\n",
       "      <td>7</td>\n",
       "      <td>Perfection</td>\n",
       "      <td>Yes</td>\n",
       "    </tr>\n",
       "  </tbody>\n",
       "</table>\n",
       "</div>"
      ],
      "text/plain": [
       "   Name       Debut    Company  Members  Orig. Memb. Fanclub Name Active\n",
       "0  100%  2012-09-18  TOP Media        4            7   Perfection    Yes"
      ]
     },
     "execution_count": 5,
     "metadata": {},
     "output_type": "execute_result"
    }
   ],
   "source": [
    "boys = boys.drop(['Short', 'Korean Name'], axis=1)\n",
    "boys.head(1)"
   ]
  },
  {
   "cell_type": "code",
   "execution_count": 6,
   "metadata": {},
   "outputs": [
    {
     "data": {
      "text/html": [
       "<div>\n",
       "<style scoped>\n",
       "    .dataframe tbody tr th:only-of-type {\n",
       "        vertical-align: middle;\n",
       "    }\n",
       "\n",
       "    .dataframe tbody tr th {\n",
       "        vertical-align: top;\n",
       "    }\n",
       "\n",
       "    .dataframe thead th {\n",
       "        text-align: right;\n",
       "    }\n",
       "</style>\n",
       "<table border=\"1\" class=\"dataframe\">\n",
       "  <thead>\n",
       "    <tr style=\"text-align: right;\">\n",
       "      <th></th>\n",
       "      <th>Name</th>\n",
       "      <th>Debut</th>\n",
       "      <th>Company</th>\n",
       "      <th>Members</th>\n",
       "      <th>Orig. Memb.</th>\n",
       "      <th>Fanclub Name</th>\n",
       "      <th>Active</th>\n",
       "    </tr>\n",
       "  </thead>\n",
       "  <tbody>\n",
       "    <tr>\n",
       "      <th>0</th>\n",
       "      <td>(G)I-DLE</td>\n",
       "      <td>2018-05-02</td>\n",
       "      <td>Cube</td>\n",
       "      <td>6</td>\n",
       "      <td>6</td>\n",
       "      <td>NaN</td>\n",
       "      <td>Yes</td>\n",
       "    </tr>\n",
       "  </tbody>\n",
       "</table>\n",
       "</div>"
      ],
      "text/plain": [
       "       Name       Debut Company  Members  Orig. Memb. Fanclub Name Active\n",
       "0  (G)I-DLE  2018-05-02    Cube        6            6          NaN    Yes"
      ]
     },
     "execution_count": 6,
     "metadata": {},
     "output_type": "execute_result"
    }
   ],
   "source": [
    "girls = girls.drop(['Short', 'Korean Name'], axis=1)\n",
    "girls.head(1)"
   ]
  },
  {
   "cell_type": "markdown",
   "metadata": {},
   "source": [
    "Now, I will calculate missing values in <code>Fanclub Name</code>."
   ]
  },
  {
   "cell_type": "code",
   "execution_count": 7,
   "metadata": {},
   "outputs": [
    {
     "name": "stdout",
     "output_type": "stream",
     "text": [
      "58.50340136054422\n"
     ]
    }
   ],
   "source": [
    "# Counting missing value percentage\n",
    "## Boy group\n",
    "count_missing_b = boys['Fanclub Name'].isnull().sum()\n",
    "print(count_missing_b/len(boys.index)*100)"
   ]
  },
  {
   "cell_type": "code",
   "execution_count": 8,
   "metadata": {},
   "outputs": [
    {
     "name": "stdout",
     "output_type": "stream",
     "text": [
      "69.73684210526315\n"
     ]
    }
   ],
   "source": [
    "## Girl groups\n",
    "count_missing_g = girls['Fanclub Name'].isnull().sum()\n",
    "print((count_missing_g/len(girls.index))*100)"
   ]
  },
  {
   "cell_type": "markdown",
   "metadata": {},
   "source": [
    "The missing values in both <code>Fanclub Name</code> is above 50% percent. I assumed, it has two possibilities : \n",
    "- They didn't have official fanclub name yet.\n",
    "- They already have official fanclub name, but is not dataset is not updated yet\n",
    "\n",
    "According to [WiDS Datathon](https://medium.com/wids-mysore/handling-missing-values-82ce096c0cef), if the information contained in the variable is not that high, you can drop the variable if it has more than 50% missing values. I will drop this column."
   ]
  },
  {
   "cell_type": "code",
   "execution_count": 9,
   "metadata": {},
   "outputs": [],
   "source": [
    "boys = boys.drop(['Fanclub Name'], axis=1)\n",
    "girls = girls.drop(['Fanclub Name'], axis=1)"
   ]
  },
  {
   "cell_type": "markdown",
   "metadata": {},
   "source": [
    "## Now, let's getting insights from each feature!"
   ]
  },
  {
   "cell_type": "markdown",
   "metadata": {},
   "source": [
    "### 1. Name\n",
    "**a). Boy group**"
   ]
  },
  {
   "cell_type": "code",
   "execution_count": 10,
   "metadata": {},
   "outputs": [
    {
     "data": {
      "text/plain": [
       "147"
      ]
     },
     "execution_count": 10,
     "metadata": {},
     "output_type": "execute_result"
    }
   ],
   "source": [
    "boys['Name'].nunique()"
   ]
  },
  {
   "cell_type": "markdown",
   "metadata": {},
   "source": [
    "**b) Girl group**"
   ]
  },
  {
   "cell_type": "code",
   "execution_count": 11,
   "metadata": {},
   "outputs": [
    {
     "data": {
      "text/plain": [
       "152"
      ]
     },
     "execution_count": 11,
     "metadata": {},
     "output_type": "execute_result"
    }
   ],
   "source": [
    "girls['Name'].nunique()"
   ]
  },
  {
   "cell_type": "markdown",
   "metadata": {},
   "source": [
    "We could see here, there are 147 boy groups and 152 girl groups in K-pop from 1992 to 2020. The girl groups is greater than boy groups."
   ]
  },
  {
   "cell_type": "markdown",
   "metadata": {},
   "source": [
    "### 2. Company\n",
    "**a) Boy group**"
   ]
  },
  {
   "cell_type": "code",
   "execution_count": 12,
   "metadata": {},
   "outputs": [
    {
     "data": {
      "text/plain": [
       "110"
      ]
     },
     "execution_count": 12,
     "metadata": {},
     "output_type": "execute_result"
    }
   ],
   "source": [
    "boys['Company'].nunique()"
   ]
  },
  {
   "cell_type": "markdown",
   "metadata": {},
   "source": [
    "**b) Girl group**"
   ]
  },
  {
   "cell_type": "code",
   "execution_count": 13,
   "metadata": {},
   "outputs": [
    {
     "data": {
      "text/plain": [
       "120"
      ]
     },
     "execution_count": 13,
     "metadata": {},
     "output_type": "execute_result"
    }
   ],
   "source": [
    "girls['Company'].nunique()"
   ]
  },
  {
   "cell_type": "code",
   "execution_count": 14,
   "metadata": {},
   "outputs": [
    {
     "data": {
      "text/html": [
       "<div>\n",
       "<style scoped>\n",
       "    .dataframe tbody tr th:only-of-type {\n",
       "        vertical-align: middle;\n",
       "    }\n",
       "\n",
       "    .dataframe tbody tr th {\n",
       "        vertical-align: top;\n",
       "    }\n",
       "\n",
       "    .dataframe thead th {\n",
       "        text-align: right;\n",
       "    }\n",
       "</style>\n",
       "<table border=\"1\" class=\"dataframe\">\n",
       "  <thead>\n",
       "    <tr style=\"text-align: right;\">\n",
       "      <th></th>\n",
       "      <th>Name</th>\n",
       "      <th>Debut</th>\n",
       "      <th>Company</th>\n",
       "      <th>Members</th>\n",
       "      <th>Orig. Memb.</th>\n",
       "      <th>Active</th>\n",
       "    </tr>\n",
       "  </thead>\n",
       "  <tbody>\n",
       "    <tr>\n",
       "      <th>4</th>\n",
       "      <td>2AM</td>\n",
       "      <td>2008-06-21</td>\n",
       "      <td>JYP, Big Hit</td>\n",
       "      <td>4</td>\n",
       "      <td>4</td>\n",
       "      <td>No</td>\n",
       "    </tr>\n",
       "  </tbody>\n",
       "</table>\n",
       "</div>"
      ],
      "text/plain": [
       "  Name       Debut       Company  Members  Orig. Memb. Active\n",
       "4  2AM  2008-06-21  JYP, Big Hit        4            4     No"
      ]
     },
     "execution_count": 14,
     "metadata": {},
     "output_type": "execute_result"
    }
   ],
   "source": [
    "boys[boys['Name'] == '2AM']"
   ]
  },
  {
   "cell_type": "markdown",
   "metadata": {},
   "source": [
    "110 is a big number because the boy group itself is 147. If we look deeper, we can find data, for example, 2AM belonged to two companies, JYP and Big Hit. And many data that is similar to this data. The groups can be managed by one or multiple companies. \n",
    "\n",
    "The company of girl groups is in the same case here. A company can have one or more girl groups and boy groups. [SM Entertainment](https://kpop.fandom.com/wiki/SM_Entertainment) is currently home to idol groups such as SUPER JUNIOR, Girls' Generation, SHINee, EXO, Red Velvet, NCT, SuperM and aespa in addition to numerous non-idol groups and solo artists.\n",
    "\n",
    "So, the *.nunique()* method I have used here didn't give an exact result. It will be challenging to get how many companies are here, do you want to try? Let me know."
   ]
  },
  {
   "cell_type": "markdown",
   "metadata": {},
   "source": [
    "### 3. Member and Original Member\n",
    "I see something interesting from these two columns, they are not the same. Why? Let's look deeper.\n",
    " Firstly, I will create a function to compare the values in these two columns. Then, I will create a new column <code>Memb. Status</code> with three statement :\n",
    "- 'Same', if member = original member\n",
    "- 'Added', if member > original member (there's member added to the group)\n",
    "- 'Subtracted', if member < original member (there's member subtraction from the group)"
   ]
  },
  {
   "cell_type": "code",
   "execution_count": 15,
   "metadata": {},
   "outputs": [],
   "source": [
    "# Fuction to create new feature : member status\n",
    "def members(row):    \n",
    "    if row['Members'] == row['Orig. Memb.']:\n",
    "        return 'Same'\n",
    "    if row['Members'] > row['Orig. Memb.']:\n",
    "        return 'Added'\n",
    "    if row['Members'] < row['Orig. Memb.']:\n",
    "        return 'Subtracted'"
   ]
  },
  {
   "cell_type": "markdown",
   "metadata": {},
   "source": [
    "**a) Boy group**"
   ]
  },
  {
   "cell_type": "code",
   "execution_count": 16,
   "metadata": {},
   "outputs": [
    {
     "data": {
      "text/plain": [
       "Same          103\n",
       "Subtracted     39\n",
       "Added           5\n",
       "Name: Memb. Status, dtype: int64"
      ]
     },
     "execution_count": 16,
     "metadata": {},
     "output_type": "execute_result"
    }
   ],
   "source": [
    "boys['Memb. Status'] = boys.apply(lambda row: members(row), axis=1)\n",
    "boys['Memb. Status'].value_counts()"
   ]
  },
  {
   "cell_type": "code",
   "execution_count": 38,
   "metadata": {},
   "outputs": [
    {
     "data": {
      "image/png": "[encoded data removed]",
      "text/plain": [
       "<Figure size 432x432 with 1 Axes>"
      ]
     },
     "metadata": {},
     "output_type": "display_data"
    }
   ],
   "source": [
    "# Pie chart\n",
    "colors_list = ['lightskyblue', 'greenyellow', 'crimson']\n",
    "member_b = boys['Memb. Status'].value_counts()\n",
    "member_b.plot(kind='pie', figsize=(6, 6), autopct='%1.1f%%', startangle=90, labels=None, pctdistance=1.12, \n",
    "             colors=colors_list)\n",
    "\n",
    "plt.title('Status of K-pop Boygroup Members\\n')\n",
    "plt.axis('equal')\n",
    "plt.legend(labels=['Same', 'Subtracted', 'Added'], loc='upper right') \n",
    "plt.show()"
   ]
  },
  {
   "cell_type": "markdown",
   "metadata": {},
   "source": [
    "**b) Girl groups**"
   ]
  },
  {
   "cell_type": "code",
   "execution_count": 18,
   "metadata": {},
   "outputs": [
    {
     "data": {
      "text/plain": [
       "Same          90\n",
       "Subtracted    47\n",
       "Added         15\n",
       "Name: Memb. Status, dtype: int64"
      ]
     },
     "execution_count": 18,
     "metadata": {},
     "output_type": "execute_result"
    }
   ],
   "source": [
    "girls['Memb. Status'] = girls.apply(lambda row: members(row), axis=1)\n",
    "girls['Memb. Status'].value_counts()"
   ]
  },
  {
   "cell_type": "code",
   "execution_count": 39,
   "metadata": {},
   "outputs": [
    {
     "data": {
      "image/png": "[encoded data removed]",
      "text/plain": [
       "<Figure size 432x432 with 1 Axes>"
      ]
     },
     "metadata": {},
     "output_type": "display_data"
    }
   ],
   "source": [
    "colors_list = ['lightskyblue', 'greenyellow', 'crimson']\n",
    "member_g = girls['Memb. Status'].value_counts()\n",
    "member_g.plot(kind='pie', figsize=(6, 6), autopct='%1.1f%%', startangle=90, labels=None, pctdistance=1.12, \n",
    "             colors=colors_list)\n",
    "\n",
    "plt.title('Status of K-pop Girlgroup Members\\n')\n",
    "plt.axis('equal')\n",
    "plt.legend(labels=['Same', 'Subtracted', 'Added'], loc='upper right') \n",
    "plt.show()"
   ]
  },
  {
   "cell_type": "markdown",
   "metadata": {},
   "source": [
    "If we compare these pie charts, the boy group is stable enough than girl group with 70.1% of them maintain the member. The girl group has more subtraction members but also a more added members. To understand why the number of members can change, let's see from the examples below :"
   ]
  },
  {
   "cell_type": "markdown",
   "metadata": {},
   "source": [
    "**a) Subtraction members**: [EXO](https://kpop.fandom.com/wiki/EXO) is a nine-member boy group under SM Entertainment. They debuted on April 8, 2012, with their first mini-album Mama.\n",
    "The group originally consisted of twelve members; Xiumin, Luhan, Kris, Suho, Lay, Baekhyun, Chen, Chanyeol, D.O., Tao, Kai, and Sehun, who were divided into two sub-units, EXO-K and EXO-M, one promoting in Korean and the other in Mandarin. Between 2014 and 2015, the group lost three of its members: Kris, Luhan, and Tao, respectively, preferring to focus on their individual careers in China."
   ]
  },
  {
   "cell_type": "code",
   "execution_count": 20,
   "metadata": {},
   "outputs": [
    {
     "data": {
      "text/html": [
       "<div>\n",
       "<style scoped>\n",
       "    .dataframe tbody tr th:only-of-type {\n",
       "        vertical-align: middle;\n",
       "    }\n",
       "\n",
       "    .dataframe tbody tr th {\n",
       "        vertical-align: top;\n",
       "    }\n",
       "\n",
       "    .dataframe thead th {\n",
       "        text-align: right;\n",
       "    }\n",
       "</style>\n",
       "<table border=\"1\" class=\"dataframe\">\n",
       "  <thead>\n",
       "    <tr style=\"text-align: right;\">\n",
       "      <th></th>\n",
       "      <th>Name</th>\n",
       "      <th>Debut</th>\n",
       "      <th>Company</th>\n",
       "      <th>Members</th>\n",
       "      <th>Orig. Memb.</th>\n",
       "      <th>Active</th>\n",
       "      <th>Memb. Status</th>\n",
       "    </tr>\n",
       "  </thead>\n",
       "  <tbody>\n",
       "    <tr>\n",
       "      <th>43</th>\n",
       "      <td>EXO</td>\n",
       "      <td>2012-04-08</td>\n",
       "      <td>SM</td>\n",
       "      <td>9</td>\n",
       "      <td>12</td>\n",
       "      <td>Yes</td>\n",
       "      <td>Subtracted</td>\n",
       "    </tr>\n",
       "  </tbody>\n",
       "</table>\n",
       "</div>"
      ],
      "text/plain": [
       "   Name       Debut Company  Members  Orig. Memb. Active Memb. Status\n",
       "43  EXO  2012-04-08      SM        9           12    Yes   Subtracted"
      ]
     },
     "execution_count": 20,
     "metadata": {},
     "output_type": "execute_result"
    }
   ],
   "source": [
    "boys[boys['Name'] == 'EXO']"
   ]
  },
  {
   "cell_type": "markdown",
   "metadata": {},
   "source": [
    "**b) Addition members**: [Red Velvet](https://redvelvet.fandom.com/wiki/Red_Velvet) debuted on August 1, 2014, with the song \"Happiness\" and four members: Irene, Seulgi, Wendy, and Joy. On March 11, 2015, Yeri joined the group. The company, SM, waited on Yeri because of her age (she would've been 15 years old) and decided to add her in the group for the 2015 comeback of Ice Cream Cake when Yeri was 16."
   ]
  },
  {
   "cell_type": "code",
   "execution_count": 21,
   "metadata": {},
   "outputs": [
    {
     "data": {
      "text/html": [
       "<div>\n",
       "<style scoped>\n",
       "    .dataframe tbody tr th:only-of-type {\n",
       "        vertical-align: middle;\n",
       "    }\n",
       "\n",
       "    .dataframe tbody tr th {\n",
       "        vertical-align: top;\n",
       "    }\n",
       "\n",
       "    .dataframe thead th {\n",
       "        text-align: right;\n",
       "    }\n",
       "</style>\n",
       "<table border=\"1\" class=\"dataframe\">\n",
       "  <thead>\n",
       "    <tr style=\"text-align: right;\">\n",
       "      <th></th>\n",
       "      <th>Name</th>\n",
       "      <th>Debut</th>\n",
       "      <th>Company</th>\n",
       "      <th>Members</th>\n",
       "      <th>Orig. Memb.</th>\n",
       "      <th>Active</th>\n",
       "      <th>Memb. Status</th>\n",
       "    </tr>\n",
       "  </thead>\n",
       "  <tbody>\n",
       "    <tr>\n",
       "      <th>122</th>\n",
       "      <td>Red Velvet</td>\n",
       "      <td>2014-08-01</td>\n",
       "      <td>SM</td>\n",
       "      <td>5</td>\n",
       "      <td>4</td>\n",
       "      <td>Yes</td>\n",
       "      <td>Added</td>\n",
       "    </tr>\n",
       "  </tbody>\n",
       "</table>\n",
       "</div>"
      ],
      "text/plain": [
       "           Name       Debut Company  Members  Orig. Memb. Active Memb. Status\n",
       "122  Red Velvet  2014-08-01      SM        5            4    Yes        Added"
      ]
     },
     "execution_count": 21,
     "metadata": {},
     "output_type": "execute_result"
    }
   ],
   "source": [
    "girls[girls['Name'] == 'Red Velvet']"
   ]
  },
  {
   "cell_type": "markdown",
   "metadata": {},
   "source": [
    "**c) Bonus**: [NCT](https://smtown-nctzens.fandom.com/wiki/NCT), an acronym for Neo Culture Technology, they are best known for being able to have an unlimited number of members and sub-units. Until 2020, they have 23 members. They added 3 members in 2018 then two members in 2020. The dataset I use here is from 1992 to 2020 but some of the data is not updated yet."
   ]
  },
  {
   "cell_type": "code",
   "execution_count": 22,
   "metadata": {},
   "outputs": [
    {
     "data": {
      "text/html": [
       "<div>\n",
       "<style scoped>\n",
       "    .dataframe tbody tr th:only-of-type {\n",
       "        vertical-align: middle;\n",
       "    }\n",
       "\n",
       "    .dataframe tbody tr th {\n",
       "        vertical-align: top;\n",
       "    }\n",
       "\n",
       "    .dataframe thead th {\n",
       "        text-align: right;\n",
       "    }\n",
       "</style>\n",
       "<table border=\"1\" class=\"dataframe\">\n",
       "  <thead>\n",
       "    <tr style=\"text-align: right;\">\n",
       "      <th></th>\n",
       "      <th>Name</th>\n",
       "      <th>Debut</th>\n",
       "      <th>Company</th>\n",
       "      <th>Members</th>\n",
       "      <th>Orig. Memb.</th>\n",
       "      <th>Active</th>\n",
       "      <th>Memb. Status</th>\n",
       "    </tr>\n",
       "  </thead>\n",
       "  <tbody>\n",
       "    <tr>\n",
       "      <th>91</th>\n",
       "      <td>NCT</td>\n",
       "      <td>2016-04-09</td>\n",
       "      <td>SM</td>\n",
       "      <td>18</td>\n",
       "      <td>18</td>\n",
       "      <td>Yes</td>\n",
       "      <td>Same</td>\n",
       "    </tr>\n",
       "  </tbody>\n",
       "</table>\n",
       "</div>"
      ],
      "text/plain": [
       "   Name       Debut Company  Members  Orig. Memb. Active Memb. Status\n",
       "91  NCT  2016-04-09      SM       18           18    Yes         Same"
      ]
     },
     "execution_count": 22,
     "metadata": {},
     "output_type": "execute_result"
    }
   ],
   "source": [
    "boys[boys['Name'] == 'NCT']"
   ]
  },
  {
   "cell_type": "markdown",
   "metadata": {},
   "source": [
    "The number of members in the K-pop group can change, it can be addition or subtraction. Every group has its own reasons, so we can not generalize that.\n",
    "\n",
    "Wait ... but what if they only change the member (the idol) but the number is the same? I mean a substitutional member. Who knows."
   ]
  },
  {
   "cell_type": "markdown",
   "metadata": {},
   "source": [
    "###  4. Active\n",
    "I want to know K-pop activity status in pie charts.\n",
    "\n",
    "**a) Boy group**"
   ]
  },
  {
   "cell_type": "code",
   "execution_count": 41,
   "metadata": {},
   "outputs": [
    {
     "data": {
      "image/png": "[encoded data removed]",
      "text/plain": [
       "<Figure size 432x432 with 1 Axes>"
      ]
     },
     "metadata": {},
     "output_type": "display_data"
    }
   ],
   "source": [
    "colors_list = ['salmon', 'goldenrod', 'skyblue']\n",
    "active_b = boys['Active'].value_counts() # Activity column\n",
    "active_b.plot(kind='pie', figsize=(6, 6), autopct='%1.1f%%', startangle=90, labels=None, pctdistance=1.12, \n",
    "             colors=colors_list)\n",
    "\n",
    "plt.title('K-pop Boy Group Activity Status\\n')\n",
    "plt.axis('equal')\n",
    "plt.legend(labels=['Active', 'Inactive', 'Hiatus'], loc='lower right') \n",
    "plt.show()"
   ]
  },
  {
   "cell_type": "code",
   "execution_count": 42,
   "metadata": {},
   "outputs": [
    {
     "data": {
      "image/png": "[encoded data removed]",
      "text/plain": [
       "<Figure size 432x432 with 1 Axes>"
      ]
     },
     "metadata": {},
     "output_type": "display_data"
    }
   ],
   "source": [
    "colors_list = ['salmon', 'goldenrod', 'skyblue']\n",
    "active_g = girls['Active'].value_counts() # Activity column\n",
    "active_g.plot(kind='pie', figsize=(6, 6), autopct='%1.1f%%', startangle=90, labels=None, pctdistance=1.12, \n",
    "             colors=colors_list)\n",
    "\n",
    "plt.title('K-pop Girl Group Activity Status\\n')\n",
    "plt.axis('equal')\n",
    "plt.legend(labels=['Active', 'Inactive', 'Hiatus'], loc='lower right') \n",
    "plt.show()"
   ]
  },
  {
   "cell_type": "markdown",
   "metadata": {},
   "source": [
    "If we compare the pie charts, the boy group is more active than the girl group with three-quarter of them are active groups. Even the number of girl groups is more than the boy group, 38.8% of them are inactive. Generally, these inactive groups are caused by disbanding. The disband itself can be caused by the member didn’t renew their contracts with the company, renewed their contracts with another company, they were a temporary group, preferring to focus on their individual careers, or so on.\n",
    "\n",
    "Here's the example of disbanded girl group: the well-known are 2NE1 and 4Minute which disbanded in 2016."
   ]
  },
  {
   "cell_type": "code",
   "execution_count": 25,
   "metadata": {},
   "outputs": [
    {
     "data": {
      "text/html": [
       "<div>\n",
       "<style scoped>\n",
       "    .dataframe tbody tr th:only-of-type {\n",
       "        vertical-align: middle;\n",
       "    }\n",
       "\n",
       "    .dataframe tbody tr th {\n",
       "        vertical-align: top;\n",
       "    }\n",
       "\n",
       "    .dataframe thead th {\n",
       "        text-align: right;\n",
       "    }\n",
       "</style>\n",
       "<table border=\"1\" class=\"dataframe\">\n",
       "  <thead>\n",
       "    <tr style=\"text-align: right;\">\n",
       "      <th></th>\n",
       "      <th>Name</th>\n",
       "      <th>Debut</th>\n",
       "      <th>Company</th>\n",
       "      <th>Members</th>\n",
       "      <th>Orig. Memb.</th>\n",
       "      <th>Active</th>\n",
       "      <th>Memb. Status</th>\n",
       "    </tr>\n",
       "  </thead>\n",
       "  <tbody>\n",
       "    <tr>\n",
       "      <th>1</th>\n",
       "      <td>15&amp;</td>\n",
       "      <td>2012-10-05</td>\n",
       "      <td>JYP</td>\n",
       "      <td>2</td>\n",
       "      <td>2</td>\n",
       "      <td>No</td>\n",
       "      <td>Same</td>\n",
       "    </tr>\n",
       "    <tr>\n",
       "      <th>2</th>\n",
       "      <td>2EYES</td>\n",
       "      <td>2013-07-20</td>\n",
       "      <td>SidusHQ</td>\n",
       "      <td>4</td>\n",
       "      <td>5</td>\n",
       "      <td>No</td>\n",
       "      <td>Subtracted</td>\n",
       "    </tr>\n",
       "    <tr>\n",
       "      <th>3</th>\n",
       "      <td>2NE1</td>\n",
       "      <td>2009-05-06</td>\n",
       "      <td>YG</td>\n",
       "      <td>4</td>\n",
       "      <td>4</td>\n",
       "      <td>No</td>\n",
       "      <td>Same</td>\n",
       "    </tr>\n",
       "    <tr>\n",
       "      <th>5</th>\n",
       "      <td>4Minute</td>\n",
       "      <td>2009-06-15</td>\n",
       "      <td>Cube</td>\n",
       "      <td>5</td>\n",
       "      <td>5</td>\n",
       "      <td>No</td>\n",
       "      <td>Same</td>\n",
       "    </tr>\n",
       "    <tr>\n",
       "      <th>7</th>\n",
       "      <td>9Muses</td>\n",
       "      <td>2010-08-12</td>\n",
       "      <td>Star Empire</td>\n",
       "      <td>4</td>\n",
       "      <td>9</td>\n",
       "      <td>No</td>\n",
       "      <td>Subtracted</td>\n",
       "    </tr>\n",
       "  </tbody>\n",
       "</table>\n",
       "</div>"
      ],
      "text/plain": [
       "      Name       Debut      Company  Members  Orig. Memb. Active Memb. Status\n",
       "1      15&  2012-10-05          JYP        2            2     No         Same\n",
       "2    2EYES  2013-07-20      SidusHQ        4            5     No   Subtracted\n",
       "3     2NE1  2009-05-06           YG        4            4     No         Same\n",
       "5  4Minute  2009-06-15         Cube        5            5     No         Same\n",
       "7   9Muses  2010-08-12  Star Empire        4            9     No   Subtracted"
      ]
     },
     "execution_count": 25,
     "metadata": {},
     "output_type": "execute_result"
    }
   ],
   "source": [
    "girls[girls['Active'] == 'No'].head()"
   ]
  },
  {
   "cell_type": "markdown",
   "metadata": {},
   "source": [
    "The number of hiatus groups is not quite different between the boy and girl groups. [Hiatus](https://kpopinfo114.wordpress.com/female_artist_profiles/indefinite-hiatus-inactive-in-korea/) means the group no longer promotes in Korea at all but are not disbanded. The hiatus status is only given to groups where both members and the company has stated it is a hiatus. Here's the example of hiatus boy groups :"
   ]
  },
  {
   "cell_type": "code",
   "execution_count": 26,
   "metadata": {},
   "outputs": [
    {
     "data": {
      "text/html": [
       "<div>\n",
       "<style scoped>\n",
       "    .dataframe tbody tr th:only-of-type {\n",
       "        vertical-align: middle;\n",
       "    }\n",
       "\n",
       "    .dataframe tbody tr th {\n",
       "        vertical-align: top;\n",
       "    }\n",
       "\n",
       "    .dataframe thead th {\n",
       "        text-align: right;\n",
       "    }\n",
       "</style>\n",
       "<table border=\"1\" class=\"dataframe\">\n",
       "  <thead>\n",
       "    <tr style=\"text-align: right;\">\n",
       "      <th></th>\n",
       "      <th>Name</th>\n",
       "      <th>Debut</th>\n",
       "      <th>Company</th>\n",
       "      <th>Members</th>\n",
       "      <th>Orig. Memb.</th>\n",
       "      <th>Active</th>\n",
       "      <th>Memb. Status</th>\n",
       "    </tr>\n",
       "  </thead>\n",
       "  <tbody>\n",
       "    <tr>\n",
       "      <th>20</th>\n",
       "      <td>Beatwin</td>\n",
       "      <td>2014-01-06</td>\n",
       "      <td>Elen</td>\n",
       "      <td>2</td>\n",
       "      <td>6</td>\n",
       "      <td>Hiatus</td>\n",
       "      <td>Subtracted</td>\n",
       "    </tr>\n",
       "    <tr>\n",
       "      <th>29</th>\n",
       "      <td>Boys Republic</td>\n",
       "      <td>2013-06-03</td>\n",
       "      <td>Happy Tribe, Universal</td>\n",
       "      <td>5</td>\n",
       "      <td>5</td>\n",
       "      <td>Hiatus</td>\n",
       "      <td>Same</td>\n",
       "    </tr>\n",
       "    <tr>\n",
       "      <th>128</th>\n",
       "      <td>Turbo</td>\n",
       "      <td>1995-09-06</td>\n",
       "      <td>MBK, Turbo Co.</td>\n",
       "      <td>3</td>\n",
       "      <td>2</td>\n",
       "      <td>Hiatus</td>\n",
       "      <td>Added</td>\n",
       "    </tr>\n",
       "    <tr>\n",
       "      <th>146</th>\n",
       "      <td>ZE:A</td>\n",
       "      <td>2010-01-07</td>\n",
       "      <td>Star Empire</td>\n",
       "      <td>9</td>\n",
       "      <td>9</td>\n",
       "      <td>Hiatus</td>\n",
       "      <td>Same</td>\n",
       "    </tr>\n",
       "  </tbody>\n",
       "</table>\n",
       "</div>"
      ],
      "text/plain": [
       "              Name       Debut                 Company  Members  Orig. Memb.  \\\n",
       "20         Beatwin  2014-01-06                    Elen        2            6   \n",
       "29   Boys Republic  2013-06-03  Happy Tribe, Universal        5            5   \n",
       "128          Turbo  1995-09-06          MBK, Turbo Co.        3            2   \n",
       "146           ZE:A  2010-01-07             Star Empire        9            9   \n",
       "\n",
       "     Active Memb. Status  \n",
       "20   Hiatus   Subtracted  \n",
       "29   Hiatus         Same  \n",
       "128  Hiatus        Added  \n",
       "146  Hiatus         Same  "
      ]
     },
     "execution_count": 26,
     "metadata": {},
     "output_type": "execute_result"
    }
   ],
   "source": [
    "boys[boys['Active'] == 'Hiatus']"
   ]
  },
  {
   "cell_type": "markdown",
   "metadata": {},
   "source": [
    "But what happens to K-pop idols who are on hiatus?\n",
    "\n",
    "[Viki Topalova](https://www.quora.com/What-happens-to-Kpop-idols-who-are-on-hiatus) said many things can happen to groups on hiatus. Members can come back as solo or sub-units to perform, they can promote themselves and their group by themselves in dramas, films, variety shows, TV shows, musicals, model jobs, article writing, etc. Or they can take a break, maybe a holiday or rest up. Being an idol is a tough job and injuries are pretty much guaranteed. However, the longer a group’s on hiatus the harder it will be for them to comeback. During the hiatus, fans could leave, newer groups could challenge the hiatus group’s position in the K-pop food chain, and so on. Also, a long hiatus could mean impending disbandment and possibly members leaving. Hiatuses are not always a good thing for the company, the group, and the fans."
   ]
  },
  {
   "cell_type": "markdown",
   "metadata": {},
   "source": [
    "### 5. Debut\n",
    "The last one, I want to use the year in debut date to visualize the K-pop group's debut generation. To do this, I will change the type of <code>Debut</code> column from string to datetime."
   ]
  },
  {
   "cell_type": "code",
   "execution_count": 27,
   "metadata": {},
   "outputs": [],
   "source": [
    "boys['Debut'] = pd.to_datetime(boys['Debut'])\n",
    "girls['Debut'] = pd.to_datetime(girls['Debut'])"
   ]
  },
  {
   "cell_type": "markdown",
   "metadata": {},
   "source": [
    "Next, I will extract year into <code>Debut year</code> column."
   ]
  },
  {
   "cell_type": "code",
   "execution_count": 28,
   "metadata": {},
   "outputs": [],
   "source": [
    "boys['Debut year'] = pd.DatetimeIndex(boys['Debut']).year\n",
    "girls['Debut year'] = pd.DatetimeIndex(girls['Debut']).year"
   ]
  },
  {
   "cell_type": "markdown",
   "metadata": {},
   "source": [
    "A little glance at the data."
   ]
  },
  {
   "cell_type": "code",
   "execution_count": 29,
   "metadata": {},
   "outputs": [
    {
     "data": {
      "text/plain": [
       "array([2012, 2017, 2019, 2008, 2007, 2015, 2013, 2016, 2018, 2014, 2010,\n",
       "       2006, 2011, 2020, 1999, 1996, 2009, 1997, 2004, 1998, 2005, 1995,\n",
       "       2003], dtype=int64)"
      ]
     },
     "execution_count": 29,
     "metadata": {},
     "output_type": "execute_result"
    }
   ],
   "source": [
    "boys['Debut year'].unique()"
   ]
  },
  {
   "cell_type": "code",
   "execution_count": 30,
   "metadata": {},
   "outputs": [
    {
     "data": {
      "text/plain": [
       "array([2018, 2012, 2013, 2009, 2019, 2014, 2010, 2016, 2017, 2011, 2015,\n",
       "       1997, 2006, 2020, 2008, 2005, 2007, 2001], dtype=int64)"
      ]
     },
     "execution_count": 30,
     "metadata": {},
     "output_type": "execute_result"
    }
   ],
   "source": [
    "girls['Debut year'].unique()"
   ]
  },
  {
   "cell_type": "markdown",
   "metadata": {},
   "source": [
    "Then, I will use these three generations (according to [The Pudding](https://pudding.cool/2020/10/kpop/)) :\n",
    "- 1st generation : debut 1992-1999\n",
    "- 2nd generation : debut 2000-2009\n",
    "- 3rd generation : debut 2010-2020"
   ]
  },
  {
   "cell_type": "code",
   "execution_count": 31,
   "metadata": {},
   "outputs": [],
   "source": [
    "# Function to create generation feature\n",
    "def generation(row):    \n",
    "    if (row['Debut year'] > 1991) & (row['Debut year'] < 2000):\n",
    "        return '1st Generation'\n",
    "    if (row['Debut year'] > 2001) & (row['Debut year'] < 2010):\n",
    "        return '2nd Generation'\n",
    "    if (row['Debut year'] > 2009) & (row['Debut year'] < 2021):\n",
    "        return '3rd Generation'"
   ]
  },
  {
   "cell_type": "code",
   "execution_count": 32,
   "metadata": {},
   "outputs": [
    {
     "data": {
      "text/plain": [
       "3rd Generation    126\n",
       "2nd Generation     15\n",
       "1st Generation      6\n",
       "Name: Generation, dtype: int64"
      ]
     },
     "execution_count": 32,
     "metadata": {},
     "output_type": "execute_result"
    }
   ],
   "source": [
    "boys['Generation'] = boys.apply(lambda row: generation(row), axis=1)\n",
    "boys['Generation'].value_counts()"
   ]
  },
  {
   "cell_type": "code",
   "execution_count": 43,
   "metadata": {},
   "outputs": [
    {
     "data": {
      "image/png": "[encoded data removed]",
      "text/plain": [
       "<Figure size 432x432 with 1 Axes>"
      ]
     },
     "metadata": {},
     "output_type": "display_data"
    }
   ],
   "source": [
    "colors_list = ['lightgreen', 'lightcoral', 'purple']\n",
    "gen_b = boys['Generation'].value_counts() # Generation column\n",
    "gen_b.plot(kind='pie', figsize=(6, 6), autopct='%1.1f%%', startangle=90, labels=None, pctdistance=1.12, \n",
    "           colors=colors_list)\n",
    "\n",
    "plt.title('K-pop Boy Group Debut Generation\\n')\n",
    "plt.axis('equal')\n",
    "plt.legend(labels=['3rd generation', '2nd generation', '1st generation'], loc='lower right') \n",
    "plt.show()"
   ]
  },
  {
   "cell_type": "code",
   "execution_count": 34,
   "metadata": {},
   "outputs": [
    {
     "data": {
      "text/plain": [
       "3rd Generation    135\n",
       "2nd Generation     14\n",
       "1st Generation      2\n",
       "Name: Generation, dtype: int64"
      ]
     },
     "execution_count": 34,
     "metadata": {},
     "output_type": "execute_result"
    }
   ],
   "source": [
    "girls['Generation'] = girls.apply(lambda row: generation(row), axis=1)\n",
    "girls['Generation'].value_counts()"
   ]
  },
  {
   "cell_type": "code",
   "execution_count": 44,
   "metadata": {},
   "outputs": [
    {
     "data": {
      "image/png": "[encoded data removed]",
      "text/plain": [
       "<Figure size 432x432 with 1 Axes>"
      ]
     },
     "metadata": {},
     "output_type": "display_data"
    }
   ],
   "source": [
    "colors_list = ['lightgreen', 'lightcoral', 'purple']\n",
    "gen_g = girls['Generation'].value_counts() # Generation column\n",
    "gen_g.plot(kind='pie', figsize=(6, 6), autopct='%1.1f%%', startangle=90, labels=None, pctdistance=1.12, \n",
    "           colors=colors_list)\n",
    "\n",
    "plt.title('K-pop Girl Group Debut Generation\\n')\n",
    "plt.axis('equal')\n",
    "plt.legend(labels=['3rd generation', '2nd generation', '1st generation'], loc='lower right') \n",
    "plt.show()"
   ]
  },
  {
   "cell_type": "markdown",
   "metadata": {},
   "source": [
    "We can see from the both pie chart, above 80% of K-pop groups debuted in 3rd generation. Let's discuss why this can be happen :"
   ]
  },
  {
   "cell_type": "markdown",
   "metadata": {},
   "source": [
    "**a) 1st Generation**\n",
    "\n",
    "The 1st generation began with the debut of a 3-member group that is credited with inspiring K-pop as we know it today: Seo Taiji and Boys. Around this time, K-pop began to gain attention in East and Southeast Asia as a result of a growing regional interest in Korean culture called “Hallyu.” Today, Hallyu is a global phenomenon influencing food, beauty, music, technology, and fashion.\n",
    "\n",
    "**b) 2nd Generation**\n",
    "\n",
    "As K-pop’s popularity grew outside of South Korea, so did the size of its groups. While 1st generation group sizes typically ranged from 3-5 members, the 2nd generation debuted nine members or more so the new era is called \"super-size\". The famous examples: Super Junior (2005) and Girls’ Generation (2007). It is only in the past five years that super-size groups have become the new normal in K-pop.\n",
    "\n",
    "**c) 3rd Generation**\n",
    "\n",
    "The 3rd generation—the current generation—brought with it the largest idol groups yet, among them the 23-member NCT(2016 to 2020). K-pop is now on the cusp of its 4th generation, which is likely to bring more experimentation with size. Now that the success of larger groups has been proven, it’s possible that companies are more willing to take on the financial risk of producing a super-size group, especially considering the popularity of three trends: international casting, subunits, and idol survival shows.\n",
    "\n",
    "From this short explanation, we could know that in 1st generation is the beginning of \"Hallyu\". The groups, the members, and the company is not much. Next, the 2nd generation tried to expand the business by adding the number of members. More groups debuted in this era (about 9%-10%). Then, 3rd generation tried to bring more members, and 80% of groups are born in this era. K-pop is worldwide now, bringing more international fans, the hype is everywhere. The companies always trying to use the existing opportunities."
   ]
  },
  {
   "cell_type": "markdown",
   "metadata": {},
   "source": [
    "## Conlusions\n",
    "\n",
    "After these explorations, we can see some insight behind the K-pop groups data from 1992 to 2020 :\n",
    "- The number of girl groups is greater than boy groups. There are 147 boy groups and 152 girl groups in K-pop.\n",
    "- A K-pop group can be managed by one or multiple companies and a company can have one or more girl groups and boy groups.\n",
    "- The number of members in the K-pop group can change for any reason, it can be addition or subtraction. The girl group has more subtraction members but also more added members.\n",
    "- The boy group is more active than the girl group. Generally, inactive groups are caused by disbanding.\n",
    "- The number of hiatus groups is not quite different between the boy and girl groups.\n",
    "- aBOVE 80% of groups are born in the 3rd generation tried. The group has more members, being worldwide and more popular, bringing more international fans, and the hype is everywhere."
   ]
  },
  {
   "cell_type": "code",
   "execution_count": 36,
   "metadata": {},
   "outputs": [
    {
     "data": {
      "text/html": [
       "<div>\n",
       "<style scoped>\n",
       "    .dataframe tbody tr th:only-of-type {\n",
       "        vertical-align: middle;\n",
       "    }\n",
       "\n",
       "    .dataframe tbody tr th {\n",
       "        vertical-align: top;\n",
       "    }\n",
       "\n",
       "    .dataframe thead th {\n",
       "        text-align: right;\n",
       "    }\n",
       "</style>\n",
       "<table border=\"1\" class=\"dataframe\">\n",
       "  <thead>\n",
       "    <tr style=\"text-align: right;\">\n",
       "      <th></th>\n",
       "      <th>Name</th>\n",
       "      <th>Debut</th>\n",
       "      <th>Company</th>\n",
       "      <th>Members</th>\n",
       "      <th>Orig. Memb.</th>\n",
       "      <th>Active</th>\n",
       "      <th>Memb. Status</th>\n",
       "      <th>Debut year</th>\n",
       "      <th>Generation</th>\n",
       "    </tr>\n",
       "  </thead>\n",
       "  <tbody>\n",
       "    <tr>\n",
       "      <th>0</th>\n",
       "      <td>100%</td>\n",
       "      <td>2012-09-18</td>\n",
       "      <td>TOP Media</td>\n",
       "      <td>4</td>\n",
       "      <td>7</td>\n",
       "      <td>Yes</td>\n",
       "      <td>Subtracted</td>\n",
       "      <td>2012</td>\n",
       "      <td>3rd Generation</td>\n",
       "    </tr>\n",
       "    <tr>\n",
       "      <th>1</th>\n",
       "      <td>14U</td>\n",
       "      <td>2017-04-17</td>\n",
       "      <td>BG</td>\n",
       "      <td>14</td>\n",
       "      <td>14</td>\n",
       "      <td>Yes</td>\n",
       "      <td>Same</td>\n",
       "      <td>2017</td>\n",
       "      <td>3rd Generation</td>\n",
       "    </tr>\n",
       "    <tr>\n",
       "      <th>2</th>\n",
       "      <td>1the9</td>\n",
       "      <td>2019-02-09</td>\n",
       "      <td>MBK</td>\n",
       "      <td>9</td>\n",
       "      <td>9</td>\n",
       "      <td>Yes</td>\n",
       "      <td>Same</td>\n",
       "      <td>2019</td>\n",
       "      <td>3rd Generation</td>\n",
       "    </tr>\n",
       "    <tr>\n",
       "      <th>3</th>\n",
       "      <td>24K</td>\n",
       "      <td>2012-09-06</td>\n",
       "      <td>Choeun</td>\n",
       "      <td>8</td>\n",
       "      <td>6</td>\n",
       "      <td>Yes</td>\n",
       "      <td>Added</td>\n",
       "      <td>2012</td>\n",
       "      <td>3rd Generation</td>\n",
       "    </tr>\n",
       "    <tr>\n",
       "      <th>4</th>\n",
       "      <td>2AM</td>\n",
       "      <td>2008-06-21</td>\n",
       "      <td>JYP, Big Hit</td>\n",
       "      <td>4</td>\n",
       "      <td>4</td>\n",
       "      <td>No</td>\n",
       "      <td>Same</td>\n",
       "      <td>2008</td>\n",
       "      <td>2nd Generation</td>\n",
       "    </tr>\n",
       "  </tbody>\n",
       "</table>\n",
       "</div>"
      ],
      "text/plain": [
       "    Name      Debut       Company  Members  Orig. Memb. Active Memb. Status  \\\n",
       "0   100% 2012-09-18     TOP Media        4            7    Yes   Subtracted   \n",
       "1    14U 2017-04-17            BG       14           14    Yes         Same   \n",
       "2  1the9 2019-02-09           MBK        9            9    Yes         Same   \n",
       "3    24K 2012-09-06        Choeun        8            6    Yes        Added   \n",
       "4    2AM 2008-06-21  JYP, Big Hit        4            4     No         Same   \n",
       "\n",
       "   Debut year      Generation  \n",
       "0        2012  3rd Generation  \n",
       "1        2017  3rd Generation  \n",
       "2        2019  3rd Generation  \n",
       "3        2012  3rd Generation  \n",
       "4        2008  2nd Generation  "
      ]
     },
     "execution_count": 36,
     "metadata": {},
     "output_type": "execute_result"
    }
   ],
   "source": [
    "boys.head()"
   ]
  },
  {
   "cell_type": "code",
   "execution_count": 37,
   "metadata": {},
   "outputs": [
    {
     "data": {
      "text/html": [
       "<div>\n",
       "<style scoped>\n",
       "    .dataframe tbody tr th:only-of-type {\n",
       "        vertical-align: middle;\n",
       "    }\n",
       "\n",
       "    .dataframe tbody tr th {\n",
       "        vertical-align: top;\n",
       "    }\n",
       "\n",
       "    .dataframe thead th {\n",
       "        text-align: right;\n",
       "    }\n",
       "</style>\n",
       "<table border=\"1\" class=\"dataframe\">\n",
       "  <thead>\n",
       "    <tr style=\"text-align: right;\">\n",
       "      <th></th>\n",
       "      <th>Name</th>\n",
       "      <th>Debut</th>\n",
       "      <th>Company</th>\n",
       "      <th>Members</th>\n",
       "      <th>Orig. Memb.</th>\n",
       "      <th>Active</th>\n",
       "      <th>Memb. Status</th>\n",
       "      <th>Debut year</th>\n",
       "      <th>Generation</th>\n",
       "    </tr>\n",
       "  </thead>\n",
       "  <tbody>\n",
       "    <tr>\n",
       "      <th>0</th>\n",
       "      <td>(G)I-DLE</td>\n",
       "      <td>2018-05-02</td>\n",
       "      <td>Cube</td>\n",
       "      <td>6</td>\n",
       "      <td>6</td>\n",
       "      <td>Yes</td>\n",
       "      <td>Same</td>\n",
       "      <td>2018</td>\n",
       "      <td>3rd Generation</td>\n",
       "    </tr>\n",
       "    <tr>\n",
       "      <th>1</th>\n",
       "      <td>15&amp;</td>\n",
       "      <td>2012-10-05</td>\n",
       "      <td>JYP</td>\n",
       "      <td>2</td>\n",
       "      <td>2</td>\n",
       "      <td>No</td>\n",
       "      <td>Same</td>\n",
       "      <td>2012</td>\n",
       "      <td>3rd Generation</td>\n",
       "    </tr>\n",
       "    <tr>\n",
       "      <th>2</th>\n",
       "      <td>2EYES</td>\n",
       "      <td>2013-07-20</td>\n",
       "      <td>SidusHQ</td>\n",
       "      <td>4</td>\n",
       "      <td>5</td>\n",
       "      <td>No</td>\n",
       "      <td>Subtracted</td>\n",
       "      <td>2013</td>\n",
       "      <td>3rd Generation</td>\n",
       "    </tr>\n",
       "    <tr>\n",
       "      <th>3</th>\n",
       "      <td>2NE1</td>\n",
       "      <td>2009-05-06</td>\n",
       "      <td>YG</td>\n",
       "      <td>4</td>\n",
       "      <td>4</td>\n",
       "      <td>No</td>\n",
       "      <td>Same</td>\n",
       "      <td>2009</td>\n",
       "      <td>2nd Generation</td>\n",
       "    </tr>\n",
       "    <tr>\n",
       "      <th>4</th>\n",
       "      <td>3YE</td>\n",
       "      <td>2019-05-21</td>\n",
       "      <td>GH</td>\n",
       "      <td>3</td>\n",
       "      <td>3</td>\n",
       "      <td>Yes</td>\n",
       "      <td>Same</td>\n",
       "      <td>2019</td>\n",
       "      <td>3rd Generation</td>\n",
       "    </tr>\n",
       "  </tbody>\n",
       "</table>\n",
       "</div>"
      ],
      "text/plain": [
       "       Name      Debut  Company  Members  Orig. Memb. Active Memb. Status  \\\n",
       "0  (G)I-DLE 2018-05-02     Cube        6            6    Yes         Same   \n",
       "1       15& 2012-10-05      JYP        2            2     No         Same   \n",
       "2     2EYES 2013-07-20  SidusHQ        4            5     No   Subtracted   \n",
       "3      2NE1 2009-05-06       YG        4            4     No         Same   \n",
       "4       3YE 2019-05-21       GH        3            3    Yes         Same   \n",
       "\n",
       "   Debut year      Generation  \n",
       "0        2018  3rd Generation  \n",
       "1        2012  3rd Generation  \n",
       "2        2013  3rd Generation  \n",
       "3        2009  2nd Generation  \n",
       "4        2019  3rd Generation  "
      ]
     },
     "execution_count": 37,
     "metadata": {},
     "output_type": "execute_result"
    }
   ],
   "source": [
    "girls.head()"
   ]
  }
 ],
 "metadata": {
  "kernelspec": {
   "display_name": "Python 3",
   "language": "python",
   "name": "python3"
  },
  "language_info": {
   "codemirror_mode": {
    "name": "ipython",
    "version": 3
   },
   "file_extension": ".py",
   "mimetype": "text/x-python",
   "name": "python",
   "nbconvert_exporter": "python",
   "pygments_lexer": "ipython3",
   "version": "3.8.3"
  }
 },
 "nbformat": 4,
 "nbformat_minor": 4
}
